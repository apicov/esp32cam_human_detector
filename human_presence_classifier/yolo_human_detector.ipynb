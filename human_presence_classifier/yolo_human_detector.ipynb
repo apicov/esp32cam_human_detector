{
 "cells": [
  {
   "cell_type": "code",
   "execution_count": 1,
   "metadata": {},
   "outputs": [],
   "source": [
    "import os\n",
    "import shutil\n",
    "import torch\n",
    "from pathlib import Path"
   ]
  },
  {
   "cell_type": "code",
   "execution_count": null,
   "metadata": {},
   "outputs": [],
   "source": [
    "# Load the YOLOv5 model (you can specify 'yolov5s', 'yolov5m', 'yolov5l', or 'yolov5x')\n",
    "model = torch.hub.load('ultralytics/yolov5', 'yolov5s', pretrained=True)"
   ]
  },
  {
   "cell_type": "code",
   "execution_count": 8,
   "metadata": {},
   "outputs": [],
   "source": [
    "# Define the source and destination folders\n",
    "source_folder = '/home/pico/code/human_presence_classifier/data/train2017'  # Change this to your source folder\n",
    "destination_folder = '/home/pico/code/human_presence_classifier/data/human'  # Change this to your destination folder\n",
    "# Create the destination folder if it doesn't exist\n",
    "Path(destination_folder).mkdir(parents=True, exist_ok=True)"
   ]
  },
  {
   "cell_type": "code",
   "execution_count": null,
   "metadata": {},
   "outputs": [],
   "source": [
    "# Iterate through all images in the source folder\n",
    "for image_name in os.listdir(source_folder):\n",
    "    if image_name.endswith(('.png', '.jpg', '.jpeg')):  # Check for image file types\n",
    "        image_path = os.path.join(source_folder, image_name)\n",
    "        \n",
    "        # Perform inference\n",
    "        results = model(image_path)\n",
    "        \n",
    "        # Check if 'person' class is detected (class ID 0 for COCO dataset)\n",
    "        if (results.xyxy[0][:, -1] == 0).sum() > 0:  # Humans detected\n",
    "            # Move the image to the destination folder\n",
    "            shutil.move(image_path, os.path.join(destination_folder, image_name))\n",
    "            print(f'Moved: {image_name}')"
   ]
  },
  {
   "cell_type": "code",
   "execution_count": null,
   "metadata": {},
   "outputs": [],
   "source": [
    "1"
   ]
  },
  {
   "cell_type": "code",
   "execution_count": null,
   "metadata": {},
   "outputs": [],
   "source": []
  }
 ],
 "metadata": {
  "kernelspec": {
   "display_name": "torch",
   "language": "python",
   "name": "python3"
  },
  "language_info": {
   "codemirror_mode": {
    "name": "ipython",
    "version": 3
   },
   "file_extension": ".py",
   "mimetype": "text/x-python",
   "name": "python",
   "nbconvert_exporter": "python",
   "pygments_lexer": "ipython3",
   "version": "3.12.4"
  }
 },
 "nbformat": 4,
 "nbformat_minor": 2
}
