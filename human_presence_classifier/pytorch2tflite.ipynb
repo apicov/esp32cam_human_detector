{
 "cells": [
  {
   "cell_type": "code",
   "execution_count": null,
   "id": "769cf96d",
   "metadata": {},
   "outputs": [],
   "source": [
    "#!pip install ai-edge-torch-nightly\n",
    "#!pip install torchao\n",
    "#!pip install ai-edge-model-explorer\n",
    "#!pip install ai-edge-litert"
   ]
  },
  {
   "cell_type": "code",
   "execution_count": null,
   "id": "3badea05",
   "metadata": {},
   "outputs": [],
   "source": [
    "import os\n",
    "import shutil\n",
    "import torch\n",
    "import torchvision.transforms as transforms\n",
    "import torchvision.datasets as datasets\n",
    "from torch.utils.data import DataLoader\n",
    "import torch.nn as nn\n",
    "import torch.optim as optim\n",
    "import random\n",
    "from tqdm import tqdm\n",
    "\n",
    "# Set the random seed for reproducibility\n",
    "seed = 42\n",
    "random.seed(seed)\n",
    "torch.manual_seed(seed)\n",
    "if torch.cuda.is_available():\n",
    "    torch.cuda.manual_seed(seed)\n",
    "    torch.cuda.manual_seed_all(seed)\n",
    "\n",
    "from ai_edge_litert.interpreter import Interpreter\n",
    "import tensorflow as tf"
   ]
  },
  {
   "cell_type": "code",
   "execution_count": null,
   "id": "1c964763",
   "metadata": {},
   "outputs": [],
   "source": [
    "model = torch.hub.load('pytorch/vision:v0.10.0', 'squeezenet1_1', pretrained=True)\n",
    "model.eval()"
   ]
  },
  {
   "cell_type": "code",
   "execution_count": null,
   "id": "20171396",
   "metadata": {},
   "outputs": [],
   "source": [
    "import ai_edge_torch\n",
    "import numpy\n",
    "import torch\n",
    "import torchvision"
   ]
  },
  {
   "cell_type": "code",
   "execution_count": null,
   "id": "75873b2e",
   "metadata": {},
   "outputs": [],
   "source": [
    "sample_inputs = (torch.randn(1, 3, 224, 224),)\n",
    "torch_output = model(*sample_inputs)"
   ]
  },
  {
   "cell_type": "code",
   "execution_count": null,
   "id": "11749d91",
   "metadata": {},
   "outputs": [],
   "source": [
    "edge_model = ai_edge_torch.convert(model.eval(), sample_inputs)"
   ]
  },
  {
   "cell_type": "code",
   "execution_count": null,
   "id": "0490372a",
   "metadata": {},
   "outputs": [],
   "source": [
    "edge_output = edge_model(*sample_inputs)"
   ]
  },
  {
   "cell_type": "code",
   "execution_count": null,
   "id": "a278556d",
   "metadata": {},
   "outputs": [],
   "source": [
    "if (numpy.allclose(\n",
    "    torch_output.detach().numpy(),\n",
    "    edge_output,\n",
    "    atol=1e-5,\n",
    "    rtol=1e-5,\n",
    ")):\n",
    "    print(\"Inference result with Pytorch and TfLite was within tolerance\")\n",
    "else:\n",
    "    print(\"Something wrong with Pytorch --> TfLite\")\n"
   ]
  },
  {
   "cell_type": "code",
   "execution_count": null,
   "id": "339f29c2",
   "metadata": {},
   "outputs": [],
   "source": [
    "edge_model.export('./squeezenet.tflite')"
   ]
  },
  {
   "cell_type": "code",
   "execution_count": null,
   "id": "c3f12346",
   "metadata": {},
   "outputs": [],
   "source": [
    "# Initialize the TFLite interpreter\n",
    "interpreter = Interpreter('./squeezenet.tflite')\n",
    "#interpreter = tf.lite.Interpreter(model_path='quantized_model.tflite')\n",
    "# Allocate the tensors\n",
    "interpreter.allocate_tensors()"
   ]
  },
  {
   "cell_type": "code",
   "execution_count": null,
   "id": "386c4358",
   "metadata": {},
   "outputs": [],
   "source": [
    "# Get input and output details\n",
    "input_details = interpreter.get_input_details()\n",
    "output_details = interpreter.get_output_details()\n",
    "\n",
    "# Get the details of all tensors in the model\n",
    "tensor_details = interpreter.get_tensor_details()\n",
    "\n",
    "# Print details of each tensor\n",
    "for tensor in tensor_details:\n",
    "    print(f\"Tensor Name: {tensor['name']}, Type: {tensor['dtype']}, Quantization: {tensor['quantization']}\")\n",
    "\n",
    "# Initialize counters\n",
    "quantized_count = 0\n",
    "non_quantized_count = 0\n",
    "\n",
    "# Iterate through tensor details\n",
    "for tensor in tensor_details:\n",
    "    tensor_type = tensor['dtype']\n",
    "    # Check if the tensor is quantized\n",
    "    if tensor_type == tf.int8:\n",
    "        quantized_count += tf.reduce_prod(tensor['shape']).numpy()  # Count the number of quantized parameters\n",
    "    else:\n",
    "        non_quantized_count += tf.reduce_prod(tensor['shape']).numpy()  # Count the number of non-quantized parameters\n",
    "\n",
    "# Print the results\n",
    "print(f'Total quantized parameters: {quantized_count}')\n",
    "print(f'Total non-quantized parameters: {non_quantized_count}')"
   ]
  },
  {
   "cell_type": "code",
   "execution_count": null,
   "id": "95617d7c",
   "metadata": {},
   "outputs": [],
   "source": [
    "import model_explorer\n",
    "model_explorer.visualize('squeezenet.tflite')"
   ]
  },
  {
   "cell_type": "code",
   "execution_count": null,
   "id": "058713fd",
   "metadata": {},
   "outputs": [],
   "source": [
    "https://medium.com/axinc-ai/quantization-with-ai-edge-torch-1efe17b93cd7"
   ]
  }
 ],
 "metadata": {
  "kernelspec": {
   "display_name": "edge",
   "language": "python",
   "name": "python3"
  },
  "language_info": {
   "codemirror_mode": {
    "name": "ipython",
    "version": 3
   },
   "file_extension": ".py",
   "mimetype": "text/x-python",
   "name": "python",
   "nbconvert_exporter": "python",
   "pygments_lexer": "ipython3",
   "version": "3.12.11"
  }
 },
 "nbformat": 4,
 "nbformat_minor": 5
}
