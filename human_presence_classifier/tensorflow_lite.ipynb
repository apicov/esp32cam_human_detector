{
 "cells": [
  {
   "cell_type": "code",
   "execution_count": 1,
   "metadata": {},
   "outputs": [
    {
     "name": "stderr",
     "output_type": "stream",
     "text": [
      "2025-07-09 17:45:23.873582: E external/local_xla/xla/stream_executor/cuda/cuda_fft.cc:467] Unable to register cuFFT factory: Attempting to register factory for plugin cuFFT when one has already been registered\n",
      "WARNING: All log messages before absl::InitializeLog() is called are written to STDERR\n",
      "E0000 00:00:1752075923.884806   98861 cuda_dnn.cc:8579] Unable to register cuDNN factory: Attempting to register factory for plugin cuDNN when one has already been registered\n",
      "E0000 00:00:1752075923.888278   98861 cuda_blas.cc:1407] Unable to register cuBLAS factory: Attempting to register factory for plugin cuBLAS when one has already been registered\n",
      "W0000 00:00:1752075923.897167   98861 computation_placer.cc:177] computation placer already registered. Please check linkage and avoid linking the same target more than once.\n",
      "W0000 00:00:1752075923.897180   98861 computation_placer.cc:177] computation placer already registered. Please check linkage and avoid linking the same target more than once.\n",
      "W0000 00:00:1752075923.897181   98861 computation_placer.cc:177] computation placer already registered. Please check linkage and avoid linking the same target more than once.\n",
      "W0000 00:00:1752075923.897182   98861 computation_placer.cc:177] computation placer already registered. Please check linkage and avoid linking the same target more than once.\n",
      "2025-07-09 17:45:23.899968: I tensorflow/core/platform/cpu_feature_guard.cc:210] This TensorFlow binary is optimized to use available CPU instructions in performance-critical operations.\n",
      "To enable the following instructions: AVX2 FMA, in other operations, rebuild TensorFlow with the appropriate compiler flags.\n"
     ]
    }
   ],
   "source": [
    "import matplotlib.pyplot as plt\n",
    "import numpy as np\n",
    "import tensorflow as tf\n",
    "from keras.optimizers import Adam\n",
    "import os\n",
    "os.environ[\"KERAS_BACKEND\"] = \"tensorflow\"\n",
    "import keras\n",
    "from keras import layers, models\n",
    "from tensorflow import data as tf_data\n",
    "keras.config.set_image_data_format(\"channels_first\")"
   ]
  },
  {
   "cell_type": "code",
   "execution_count": 2,
   "metadata": {},
   "outputs": [],
   "source": [
    "@keras.saving.register_keras_serializable()\n",
    "class FireModule(layers.Layer):\n",
    "    def __init__(self, squeeze_filters, expand1x1_filters, expand3x3_filters, name=None, **kwargs):\n",
    "        super(FireModule, self).__init__(name=name, **kwargs)\n",
    "        self.squeeze_filters = squeeze_filters\n",
    "        self.expand1x1_filters = expand1x1_filters\n",
    "        self.expand3x3_filters = expand3x3_filters\n",
    "        # Define the layers for the Fire module\n",
    "        self.squeeze = layers.Conv2D(self.squeeze_filters, (1, 1), activation='relu', data_format='channels_first')\n",
    "        self.expand1x1 = layers.Conv2D(self.expand1x1_filters, (1, 1), activation='relu', data_format='channels_first')\n",
    "        self.expand3x3 = layers.Conv2D(self.expand3x3_filters, (3, 3), padding='same', activation='relu', data_format='channels_first')\n",
    "\n",
    "    def call(self, inputs):\n",
    "        x = self.squeeze(inputs)\n",
    "        x1 = self.expand1x1(x)\n",
    "        x2 = self.expand3x3(x)\n",
    "        #output = tf.concat([x1, x2], axis=1)  # Concatenate along the channel axis\n",
    "        output = keras.ops.concatenate([x1, x2], axis=1) # Concatenate along the channel axis\n",
    "        return output\n",
    "    \n",
    "    def get_config(self):\n",
    "        config = super(FireModule, self).get_config()\n",
    "        config.update(\n",
    "            {\n",
    "\n",
    "            \"squeeze_filters\": self.squeeze_filters,\n",
    "            \"expand1x1_filters\": self.expand1x1_filters,\n",
    "            \"expand3x3_filters\":self.expand3x3_filters\n",
    "            }\n",
    "        )\n",
    "        return config\n",
    "\n",
    "    @classmethod\n",
    "    def from_config(cls, config):\n",
    "        config['squeeze_filters'] = keras.saving.deserialize_keras_object(config['squeeze_filters'])\n",
    "        config['expand1x1_filters'] = keras.saving.deserialize_keras_object(config['expand1x1_filters'])\n",
    "        config['expand3x3_filters'] = keras.saving.deserialize_keras_object(config['expand3x3_filters'])\n",
    "        return cls(**config)"
   ]
  },
  {
   "cell_type": "code",
   "execution_count": 3,
   "metadata": {},
   "outputs": [
    {
     "name": "stderr",
     "output_type": "stream",
     "text": [
      "I0000 00:00:1752075925.992376   98861 gpu_device.cc:2019] Created device /job:localhost/replica:0/task:0/device:GPU:0 with 9612 MB memory:  -> device: 0, name: NVIDIA GeForce RTX 2080 Ti, pci bus id: 0000:01:00.0, compute capability: 7.5\n",
      "/home/pico/miniconda3/envs/torch/lib/python3.12/site-packages/keras/src/layers/layer.py:421: UserWarning: `build()` was called on layer 'fire_module', however the layer does not have a `build()` method implemented and it looks like it has unbuilt state. This will cause the layer to be marked as built, despite not being actually built, which may cause failures down the line. Make sure to implement a proper `build()` method.\n",
      "  warnings.warn(\n",
      "/home/pico/miniconda3/envs/torch/lib/python3.12/site-packages/keras/src/layers/layer.py:421: UserWarning: `build()` was called on layer 'fire_module_1', however the layer does not have a `build()` method implemented and it looks like it has unbuilt state. This will cause the layer to be marked as built, despite not being actually built, which may cause failures down the line. Make sure to implement a proper `build()` method.\n",
      "  warnings.warn(\n"
     ]
    },
    {
     "data": {
      "text/html": [
       "<pre style=\"white-space:pre;overflow-x:auto;line-height:normal;font-family:Menlo,'DejaVu Sans Mono',consolas,'Courier New',monospace\"><span style=\"font-weight: bold\">Model: \"functional\"</span>\n",
       "</pre>\n"
      ],
      "text/plain": [
       "\u001b[1mModel: \"functional\"\u001b[0m\n"
      ]
     },
     "metadata": {},
     "output_type": "display_data"
    },
    {
     "data": {
      "text/html": [
       "<pre style=\"white-space:pre;overflow-x:auto;line-height:normal;font-family:Menlo,'DejaVu Sans Mono',consolas,'Courier New',monospace\">┏━━━━━━━━━━━━━━━━━━━━━━━━━━━━━━━━━┳━━━━━━━━━━━━━━━━━━━━━━━━┳━━━━━━━━━━━━━━━┓\n",
       "┃<span style=\"font-weight: bold\"> Layer (type)                    </span>┃<span style=\"font-weight: bold\"> Output Shape           </span>┃<span style=\"font-weight: bold\">       Param # </span>┃\n",
       "┡━━━━━━━━━━━━━━━━━━━━━━━━━━━━━━━━━╇━━━━━━━━━━━━━━━━━━━━━━━━╇━━━━━━━━━━━━━━━┩\n",
       "│ input_layer (<span style=\"color: #0087ff; text-decoration-color: #0087ff\">InputLayer</span>)        │ (<span style=\"color: #00d7ff; text-decoration-color: #00d7ff\">None</span>, <span style=\"color: #00af00; text-decoration-color: #00af00\">3</span>, <span style=\"color: #00af00; text-decoration-color: #00af00\">96</span>, <span style=\"color: #00af00; text-decoration-color: #00af00\">96</span>)      │             <span style=\"color: #00af00; text-decoration-color: #00af00\">0</span> │\n",
       "├─────────────────────────────────┼────────────────────────┼───────────────┤\n",
       "│ conv2d (<span style=\"color: #0087ff; text-decoration-color: #0087ff\">Conv2D</span>)                 │ (<span style=\"color: #00d7ff; text-decoration-color: #00d7ff\">None</span>, <span style=\"color: #00af00; text-decoration-color: #00af00\">64</span>, <span style=\"color: #00af00; text-decoration-color: #00af00\">94</span>, <span style=\"color: #00af00; text-decoration-color: #00af00\">94</span>)     │         <span style=\"color: #00af00; text-decoration-color: #00af00\">1,792</span> │\n",
       "├─────────────────────────────────┼────────────────────────┼───────────────┤\n",
       "│ max_pooling2d (<span style=\"color: #0087ff; text-decoration-color: #0087ff\">MaxPooling2D</span>)    │ (<span style=\"color: #00d7ff; text-decoration-color: #00d7ff\">None</span>, <span style=\"color: #00af00; text-decoration-color: #00af00\">64</span>, <span style=\"color: #00af00; text-decoration-color: #00af00\">46</span>, <span style=\"color: #00af00; text-decoration-color: #00af00\">46</span>)     │             <span style=\"color: #00af00; text-decoration-color: #00af00\">0</span> │\n",
       "├─────────────────────────────────┼────────────────────────┼───────────────┤\n",
       "│ fire_module (<span style=\"color: #0087ff; text-decoration-color: #0087ff\">FireModule</span>)        │ (<span style=\"color: #00d7ff; text-decoration-color: #00d7ff\">None</span>, <span style=\"color: #00af00; text-decoration-color: #00af00\">128</span>, <span style=\"color: #00af00; text-decoration-color: #00af00\">46</span>, <span style=\"color: #00af00; text-decoration-color: #00af00\">46</span>)    │        <span style=\"color: #00af00; text-decoration-color: #00af00\">11,408</span> │\n",
       "├─────────────────────────────────┼────────────────────────┼───────────────┤\n",
       "│ fire_module_1 (<span style=\"color: #0087ff; text-decoration-color: #0087ff\">FireModule</span>)      │ (<span style=\"color: #00d7ff; text-decoration-color: #00d7ff\">None</span>, <span style=\"color: #00af00; text-decoration-color: #00af00\">128</span>, <span style=\"color: #00af00; text-decoration-color: #00af00\">46</span>, <span style=\"color: #00af00; text-decoration-color: #00af00\">46</span>)    │        <span style=\"color: #00af00; text-decoration-color: #00af00\">12,432</span> │\n",
       "├─────────────────────────────────┼────────────────────────┼───────────────┤\n",
       "│ max_pooling2d_1 (<span style=\"color: #0087ff; text-decoration-color: #0087ff\">MaxPooling2D</span>)  │ (<span style=\"color: #00d7ff; text-decoration-color: #00d7ff\">None</span>, <span style=\"color: #00af00; text-decoration-color: #00af00\">128</span>, <span style=\"color: #00af00; text-decoration-color: #00af00\">22</span>, <span style=\"color: #00af00; text-decoration-color: #00af00\">22</span>)    │             <span style=\"color: #00af00; text-decoration-color: #00af00\">0</span> │\n",
       "├─────────────────────────────────┼────────────────────────┼───────────────┤\n",
       "│ dropout (<span style=\"color: #0087ff; text-decoration-color: #0087ff\">Dropout</span>)               │ (<span style=\"color: #00d7ff; text-decoration-color: #00d7ff\">None</span>, <span style=\"color: #00af00; text-decoration-color: #00af00\">128</span>, <span style=\"color: #00af00; text-decoration-color: #00af00\">22</span>, <span style=\"color: #00af00; text-decoration-color: #00af00\">22</span>)    │             <span style=\"color: #00af00; text-decoration-color: #00af00\">0</span> │\n",
       "├─────────────────────────────────┼────────────────────────┼───────────────┤\n",
       "│ conv2d_7 (<span style=\"color: #0087ff; text-decoration-color: #0087ff\">Conv2D</span>)               │ (<span style=\"color: #00d7ff; text-decoration-color: #00d7ff\">None</span>, <span style=\"color: #00af00; text-decoration-color: #00af00\">2</span>, <span style=\"color: #00af00; text-decoration-color: #00af00\">22</span>, <span style=\"color: #00af00; text-decoration-color: #00af00\">22</span>)      │           <span style=\"color: #00af00; text-decoration-color: #00af00\">258</span> │\n",
       "├─────────────────────────────────┼────────────────────────┼───────────────┤\n",
       "│ global_average_pooling2d        │ (<span style=\"color: #00d7ff; text-decoration-color: #00d7ff\">None</span>, <span style=\"color: #00af00; text-decoration-color: #00af00\">2</span>)              │             <span style=\"color: #00af00; text-decoration-color: #00af00\">0</span> │\n",
       "│ (<span style=\"color: #0087ff; text-decoration-color: #0087ff\">GlobalAveragePooling2D</span>)        │                        │               │\n",
       "├─────────────────────────────────┼────────────────────────┼───────────────┤\n",
       "│ dense (<span style=\"color: #0087ff; text-decoration-color: #0087ff\">Dense</span>)                   │ (<span style=\"color: #00d7ff; text-decoration-color: #00d7ff\">None</span>, <span style=\"color: #00af00; text-decoration-color: #00af00\">1</span>)              │             <span style=\"color: #00af00; text-decoration-color: #00af00\">3</span> │\n",
       "└─────────────────────────────────┴────────────────────────┴───────────────┘\n",
       "</pre>\n"
      ],
      "text/plain": [
       "┏━━━━━━━━━━━━━━━━━━━━━━━━━━━━━━━━━┳━━━━━━━━━━━━━━━━━━━━━━━━┳━━━━━━━━━━━━━━━┓\n",
       "┃\u001b[1m \u001b[0m\u001b[1mLayer (type)                   \u001b[0m\u001b[1m \u001b[0m┃\u001b[1m \u001b[0m\u001b[1mOutput Shape          \u001b[0m\u001b[1m \u001b[0m┃\u001b[1m \u001b[0m\u001b[1m      Param #\u001b[0m\u001b[1m \u001b[0m┃\n",
       "┡━━━━━━━━━━━━━━━━━━━━━━━━━━━━━━━━━╇━━━━━━━━━━━━━━━━━━━━━━━━╇━━━━━━━━━━━━━━━┩\n",
       "│ input_layer (\u001b[38;5;33mInputLayer\u001b[0m)        │ (\u001b[38;5;45mNone\u001b[0m, \u001b[38;5;34m3\u001b[0m, \u001b[38;5;34m96\u001b[0m, \u001b[38;5;34m96\u001b[0m)      │             \u001b[38;5;34m0\u001b[0m │\n",
       "├─────────────────────────────────┼────────────────────────┼───────────────┤\n",
       "│ conv2d (\u001b[38;5;33mConv2D\u001b[0m)                 │ (\u001b[38;5;45mNone\u001b[0m, \u001b[38;5;34m64\u001b[0m, \u001b[38;5;34m94\u001b[0m, \u001b[38;5;34m94\u001b[0m)     │         \u001b[38;5;34m1,792\u001b[0m │\n",
       "├─────────────────────────────────┼────────────────────────┼───────────────┤\n",
       "│ max_pooling2d (\u001b[38;5;33mMaxPooling2D\u001b[0m)    │ (\u001b[38;5;45mNone\u001b[0m, \u001b[38;5;34m64\u001b[0m, \u001b[38;5;34m46\u001b[0m, \u001b[38;5;34m46\u001b[0m)     │             \u001b[38;5;34m0\u001b[0m │\n",
       "├─────────────────────────────────┼────────────────────────┼───────────────┤\n",
       "│ fire_module (\u001b[38;5;33mFireModule\u001b[0m)        │ (\u001b[38;5;45mNone\u001b[0m, \u001b[38;5;34m128\u001b[0m, \u001b[38;5;34m46\u001b[0m, \u001b[38;5;34m46\u001b[0m)    │        \u001b[38;5;34m11,408\u001b[0m │\n",
       "├─────────────────────────────────┼────────────────────────┼───────────────┤\n",
       "│ fire_module_1 (\u001b[38;5;33mFireModule\u001b[0m)      │ (\u001b[38;5;45mNone\u001b[0m, \u001b[38;5;34m128\u001b[0m, \u001b[38;5;34m46\u001b[0m, \u001b[38;5;34m46\u001b[0m)    │        \u001b[38;5;34m12,432\u001b[0m │\n",
       "├─────────────────────────────────┼────────────────────────┼───────────────┤\n",
       "│ max_pooling2d_1 (\u001b[38;5;33mMaxPooling2D\u001b[0m)  │ (\u001b[38;5;45mNone\u001b[0m, \u001b[38;5;34m128\u001b[0m, \u001b[38;5;34m22\u001b[0m, \u001b[38;5;34m22\u001b[0m)    │             \u001b[38;5;34m0\u001b[0m │\n",
       "├─────────────────────────────────┼────────────────────────┼───────────────┤\n",
       "│ dropout (\u001b[38;5;33mDropout\u001b[0m)               │ (\u001b[38;5;45mNone\u001b[0m, \u001b[38;5;34m128\u001b[0m, \u001b[38;5;34m22\u001b[0m, \u001b[38;5;34m22\u001b[0m)    │             \u001b[38;5;34m0\u001b[0m │\n",
       "├─────────────────────────────────┼────────────────────────┼───────────────┤\n",
       "│ conv2d_7 (\u001b[38;5;33mConv2D\u001b[0m)               │ (\u001b[38;5;45mNone\u001b[0m, \u001b[38;5;34m2\u001b[0m, \u001b[38;5;34m22\u001b[0m, \u001b[38;5;34m22\u001b[0m)      │           \u001b[38;5;34m258\u001b[0m │\n",
       "├─────────────────────────────────┼────────────────────────┼───────────────┤\n",
       "│ global_average_pooling2d        │ (\u001b[38;5;45mNone\u001b[0m, \u001b[38;5;34m2\u001b[0m)              │             \u001b[38;5;34m0\u001b[0m │\n",
       "│ (\u001b[38;5;33mGlobalAveragePooling2D\u001b[0m)        │                        │               │\n",
       "├─────────────────────────────────┼────────────────────────┼───────────────┤\n",
       "│ dense (\u001b[38;5;33mDense\u001b[0m)                   │ (\u001b[38;5;45mNone\u001b[0m, \u001b[38;5;34m1\u001b[0m)              │             \u001b[38;5;34m3\u001b[0m │\n",
       "└─────────────────────────────────┴────────────────────────┴───────────────┘\n"
      ]
     },
     "metadata": {},
     "output_type": "display_data"
    },
    {
     "data": {
      "text/html": [
       "<pre style=\"white-space:pre;overflow-x:auto;line-height:normal;font-family:Menlo,'DejaVu Sans Mono',consolas,'Courier New',monospace\"><span style=\"font-weight: bold\"> Total params: </span><span style=\"color: #00af00; text-decoration-color: #00af00\">77,681</span> (303.45 KB)\n",
       "</pre>\n"
      ],
      "text/plain": [
       "\u001b[1m Total params: \u001b[0m\u001b[38;5;34m77,681\u001b[0m (303.45 KB)\n"
      ]
     },
     "metadata": {},
     "output_type": "display_data"
    },
    {
     "data": {
      "text/html": [
       "<pre style=\"white-space:pre;overflow-x:auto;line-height:normal;font-family:Menlo,'DejaVu Sans Mono',consolas,'Courier New',monospace\"><span style=\"font-weight: bold\"> Trainable params: </span><span style=\"color: #00af00; text-decoration-color: #00af00\">25,893</span> (101.14 KB)\n",
       "</pre>\n"
      ],
      "text/plain": [
       "\u001b[1m Trainable params: \u001b[0m\u001b[38;5;34m25,893\u001b[0m (101.14 KB)\n"
      ]
     },
     "metadata": {},
     "output_type": "display_data"
    },
    {
     "data": {
      "text/html": [
       "<pre style=\"white-space:pre;overflow-x:auto;line-height:normal;font-family:Menlo,'DejaVu Sans Mono',consolas,'Courier New',monospace\"><span style=\"font-weight: bold\"> Non-trainable params: </span><span style=\"color: #00af00; text-decoration-color: #00af00\">0</span> (0.00 B)\n",
       "</pre>\n"
      ],
      "text/plain": [
       "\u001b[1m Non-trainable params: \u001b[0m\u001b[38;5;34m0\u001b[0m (0.00 B)\n"
      ]
     },
     "metadata": {},
     "output_type": "display_data"
    },
    {
     "data": {
      "text/html": [
       "<pre style=\"white-space:pre;overflow-x:auto;line-height:normal;font-family:Menlo,'DejaVu Sans Mono',consolas,'Courier New',monospace\"><span style=\"font-weight: bold\"> Optimizer params: </span><span style=\"color: #00af00; text-decoration-color: #00af00\">51,788</span> (202.30 KB)\n",
       "</pre>\n"
      ],
      "text/plain": [
       "\u001b[1m Optimizer params: \u001b[0m\u001b[38;5;34m51,788\u001b[0m (202.30 KB)\n"
      ]
     },
     "metadata": {},
     "output_type": "display_data"
    }
   ],
   "source": [
    "# Load keras model\n",
    "model = keras.models.load_model('minisqueezenet_96.keras',\n",
    "    custom_objects={\"FireModule\": FireModule})\n",
    "model.summary()"
   ]
  },
  {
   "cell_type": "markdown",
   "metadata": {},
   "source": [
    "\n",
    "## Preparing and testing the quantized TFLite model\n"
   ]
  },
  {
   "cell_type": "code",
   "execution_count": 48,
   "metadata": {},
   "outputs": [
    {
     "name": "stdout",
     "output_type": "stream",
     "text": [
      "INFO:tensorflow:Assets written to: /tmp/tmpiqy9llx3/assets\n"
     ]
    },
    {
     "name": "stderr",
     "output_type": "stream",
     "text": [
      "INFO:tensorflow:Assets written to: /tmp/tmpiqy9llx3/assets\n"
     ]
    },
    {
     "name": "stdout",
     "output_type": "stream",
     "text": [
      "Saved artifact at '/tmp/tmpiqy9llx3'. The following endpoints are available:\n",
      "\n",
      "* Endpoint 'serve'\n",
      "  args_0 (POSITIONAL_ONLY): TensorSpec(shape=(None, 3, 96, 96), dtype=tf.float32, name='input_layer')\n",
      "Output Type:\n",
      "  TensorSpec(shape=(None, 1), dtype=tf.float32, name=None)\n",
      "Captures:\n",
      "  135150037478544: TensorSpec(shape=(), dtype=tf.resource, name=None)\n",
      "  135147103752784: TensorSpec(shape=(), dtype=tf.resource, name=None)\n",
      "  135147103757584: TensorSpec(shape=(), dtype=tf.resource, name=None)\n",
      "  135147103757200: TensorSpec(shape=(), dtype=tf.resource, name=None)\n",
      "  135147103758736: TensorSpec(shape=(), dtype=tf.resource, name=None)\n",
      "  135147103758544: TensorSpec(shape=(), dtype=tf.resource, name=None)\n",
      "  135147103759120: TensorSpec(shape=(), dtype=tf.resource, name=None)\n",
      "  135147103758160: TensorSpec(shape=(), dtype=tf.resource, name=None)\n",
      "  135147103759696: TensorSpec(shape=(), dtype=tf.resource, name=None)\n",
      "  135147103758928: TensorSpec(shape=(), dtype=tf.resource, name=None)\n",
      "  135147103760464: TensorSpec(shape=(), dtype=tf.resource, name=None)\n",
      "  135147103760272: TensorSpec(shape=(), dtype=tf.resource, name=None)\n",
      "  135147103760848: TensorSpec(shape=(), dtype=tf.resource, name=None)\n",
      "  135147103759888: TensorSpec(shape=(), dtype=tf.resource, name=None)\n",
      "  135147103754896: TensorSpec(shape=(), dtype=tf.resource, name=None)\n",
      "  135147103755472: TensorSpec(shape=(), dtype=tf.resource, name=None)\n",
      "  135147103756624: TensorSpec(shape=(), dtype=tf.resource, name=None)\n",
      "  135147103757392: TensorSpec(shape=(), dtype=tf.resource, name=None)\n"
     ]
    },
    {
     "name": "stderr",
     "output_type": "stream",
     "text": [
      "W0000 00:00:1752076992.711365   98861 tf_tfl_flatbuffer_helpers.cc:365] Ignored output_format.\n",
      "W0000 00:00:1752076992.711375   98861 tf_tfl_flatbuffer_helpers.cc:368] Ignored drop_control_dependency.\n",
      "2025-07-09 18:03:12.711481: I tensorflow/cc/saved_model/reader.cc:83] Reading SavedModel from: /tmp/tmpiqy9llx3\n",
      "2025-07-09 18:03:12.712128: I tensorflow/cc/saved_model/reader.cc:52] Reading meta graph with tags { serve }\n",
      "2025-07-09 18:03:12.712135: I tensorflow/cc/saved_model/reader.cc:147] Reading SavedModel debug info (if present) from: /tmp/tmpiqy9llx3\n",
      "2025-07-09 18:03:12.719185: I tensorflow/cc/saved_model/loader.cc:236] Restoring SavedModel bundle.\n",
      "2025-07-09 18:03:12.755179: I tensorflow/cc/saved_model/loader.cc:220] Running initialization op on SavedModel bundle at path: /tmp/tmpiqy9llx3\n",
      "2025-07-09 18:03:12.767208: I tensorflow/cc/saved_model/loader.cc:471] SavedModel load for tags { serve }; Status: success: OK. Took 55729 microseconds.\n"
     ]
    }
   ],
   "source": [
    "# Convert the model to TFLite\n",
    "converter = tf.lite.TFLiteConverter.from_keras_model(model)\n",
    "tflite_model = converter.convert()"
   ]
  },
  {
   "cell_type": "code",
   "execution_count": 9,
   "metadata": {},
   "outputs": [
    {
     "name": "stdout",
     "output_type": "stream",
     "text": [
      "111636 bytes\n"
     ]
    }
   ],
   "source": [
    "print(len(tflite_model), \"bytes\")"
   ]
  },
  {
   "cell_type": "markdown",
   "metadata": {},
   "source": [
    "### With optimizations "
   ]
  },
  {
   "cell_type": "code",
   "execution_count": 53,
   "metadata": {},
   "outputs": [
    {
     "name": "stdout",
     "output_type": "stream",
     "text": [
      "Found 33280 files belonging to 2 classes.\n"
     ]
    }
   ],
   "source": [
    "\n",
    "# Prepare representative dataset for model quantization.\n",
    "\n",
    "train_ds = keras.utils.image_dataset_from_directory(\n",
    "    \"./data/human_dataset_a/train\",\n",
    "    seed=1337,\n",
    "    image_size=(96,96),\n",
    "    batch_size=1,\n",
    "    label_mode='binary'    \n",
    "   \n",
    ")\n",
    "\n",
    "# Reescale image values from 0-255 to 0-1\n",
    "#rescale_fn = layers.Rescaling(1.0 / 255)\n",
    "#train_ds = train_ds.map(lambda x, y: (rescale_fn(x), y))\n",
    "\n",
    "#repr_ds = train_ds.unbatch()\n",
    "\n",
    "def representative_data_gen():\n",
    "  for i_value, o_value in train_ds.take(64):\n",
    "    yield [i_value.numpy().astype(np.float32)]\n",
    "    #yield [i_value]"
   ]
  },
  {
   "cell_type": "code",
   "execution_count": 54,
   "metadata": {},
   "outputs": [
    {
     "name": "stdout",
     "output_type": "stream",
     "text": [
      "INFO:tensorflow:Assets written to: /tmp/tmpwgyl22t0/assets\n"
     ]
    },
    {
     "name": "stderr",
     "output_type": "stream",
     "text": [
      "INFO:tensorflow:Assets written to: /tmp/tmpwgyl22t0/assets\n"
     ]
    },
    {
     "name": "stdout",
     "output_type": "stream",
     "text": [
      "Saved artifact at '/tmp/tmpwgyl22t0'. The following endpoints are available:\n",
      "\n",
      "* Endpoint 'serve'\n",
      "  args_0 (POSITIONAL_ONLY): TensorSpec(shape=(None, 3, 96, 96), dtype=tf.float32, name='input_layer')\n",
      "Output Type:\n",
      "  TensorSpec(shape=(None, 1), dtype=tf.float32, name=None)\n",
      "Captures:\n",
      "  135150037478544: TensorSpec(shape=(), dtype=tf.resource, name=None)\n",
      "  135147103752784: TensorSpec(shape=(), dtype=tf.resource, name=None)\n",
      "  135147103757584: TensorSpec(shape=(), dtype=tf.resource, name=None)\n",
      "  135147103757200: TensorSpec(shape=(), dtype=tf.resource, name=None)\n",
      "  135147103758736: TensorSpec(shape=(), dtype=tf.resource, name=None)\n",
      "  135147103758544: TensorSpec(shape=(), dtype=tf.resource, name=None)\n",
      "  135147103759120: TensorSpec(shape=(), dtype=tf.resource, name=None)\n",
      "  135147103758160: TensorSpec(shape=(), dtype=tf.resource, name=None)\n",
      "  135147103759696: TensorSpec(shape=(), dtype=tf.resource, name=None)\n",
      "  135147103758928: TensorSpec(shape=(), dtype=tf.resource, name=None)\n",
      "  135147103760464: TensorSpec(shape=(), dtype=tf.resource, name=None)\n",
      "  135147103760272: TensorSpec(shape=(), dtype=tf.resource, name=None)\n",
      "  135147103760848: TensorSpec(shape=(), dtype=tf.resource, name=None)\n",
      "  135147103759888: TensorSpec(shape=(), dtype=tf.resource, name=None)\n",
      "  135147103754896: TensorSpec(shape=(), dtype=tf.resource, name=None)\n",
      "  135147103755472: TensorSpec(shape=(), dtype=tf.resource, name=None)\n",
      "  135147103756624: TensorSpec(shape=(), dtype=tf.resource, name=None)\n",
      "  135147103757392: TensorSpec(shape=(), dtype=tf.resource, name=None)\n"
     ]
    },
    {
     "name": "stderr",
     "output_type": "stream",
     "text": [
      "/home/pico/miniconda3/envs/torch/lib/python3.12/site-packages/tensorflow/lite/python/convert.py:854: UserWarning: Statistics for quantized inputs were expected, but not specified; continuing anyway.\n",
      "  warnings.warn(\n",
      "W0000 00:00:1752077406.548501   98861 tf_tfl_flatbuffer_helpers.cc:365] Ignored output_format.\n",
      "W0000 00:00:1752077406.548510   98861 tf_tfl_flatbuffer_helpers.cc:368] Ignored drop_control_dependency.\n",
      "2025-07-09 18:10:06.548613: I tensorflow/cc/saved_model/reader.cc:83] Reading SavedModel from: /tmp/tmpwgyl22t0\n",
      "2025-07-09 18:10:06.549259: I tensorflow/cc/saved_model/reader.cc:52] Reading meta graph with tags { serve }\n",
      "2025-07-09 18:10:06.549265: I tensorflow/cc/saved_model/reader.cc:147] Reading SavedModel debug info (if present) from: /tmp/tmpwgyl22t0\n",
      "2025-07-09 18:10:06.556144: I tensorflow/cc/saved_model/loader.cc:236] Restoring SavedModel bundle.\n",
      "2025-07-09 18:10:06.591709: I tensorflow/cc/saved_model/loader.cc:220] Running initialization op on SavedModel bundle at path: /tmp/tmpwgyl22t0\n",
      "2025-07-09 18:10:06.603636: I tensorflow/cc/saved_model/loader.cc:471] SavedModel load for tags { serve }; Status: success: OK. Took 55024 microseconds.\n",
      "2025-07-09 18:10:08.039505: I tensorflow/core/framework/local_rendezvous.cc:407] Local rendezvous is aborting with status: OUT_OF_RANGE: End of sequence\n",
      "fully_quantize: 0, inference_type: 6, input_inference_type: INT8, output_inference_type: INT8\n"
     ]
    }
   ],
   "source": [
    "# Convert keras model to TFLite\n",
    "converter = tf.lite.TFLiteConverter.from_keras_model(model)\n",
    "\n",
    "# Provide a representative dataset for calibration\n",
    "converter.representative_dataset = tf.lite.RepresentativeDataset(representative_data_gen)\n",
    "# Apply the default optimizations\n",
    "converter.optimizations = [tf.lite.Optimize.DEFAULT]\n",
    "# Set the target specification to use INT8 operations\n",
    "converter.target_spec.supported_ops = [tf.lite.OpsSet.TFLITE_BUILTINS_INT8]\n",
    "# Set the inference input and output types to INT8\n",
    "converter.inference_type = tf.int8\n",
    "converter.inference_input_type = tf.int8\n",
    "converter.inference_output_type = tf.int8\n",
    "\n",
    "tflite_model = converter.convert()"
   ]
  },
  {
   "cell_type": "code",
   "execution_count": 55,
   "metadata": {},
   "outputs": [
    {
     "name": "stdout",
     "output_type": "stream",
     "text": [
      "44792 bytes\n"
     ]
    }
   ],
   "source": [
    "print(len(tflite_model), \"bytes\")"
   ]
  },
  {
   "cell_type": "code",
   "execution_count": 60,
   "metadata": {},
   "outputs": [],
   "source": [
    "# Save the TFLite model\n",
    "with open('minisqueezenet_96.tflite', 'wb') as f:\n",
    "    f.write(tflite_model)"
   ]
  },
  {
   "cell_type": "markdown",
   "metadata": {},
   "source": [
    "### Initialize the TFLite interpreter"
   ]
  },
  {
   "cell_type": "code",
   "execution_count": null,
   "metadata": {},
   "outputs": [
    {
     "name": "stderr",
     "output_type": "stream",
     "text": [
      "/home/pico/miniconda3/envs/torch/lib/python3.12/site-packages/tensorflow/lite/python/interpreter.py:457: UserWarning:     Warning: tf.lite.Interpreter is deprecated and is scheduled for deletion in\n",
      "    TF 2.20. Please use the LiteRT interpreter from the ai_edge_litert package.\n",
      "    See the [migration guide](https://ai.google.dev/edge/litert/migration)\n",
      "    for details.\n",
      "    \n",
      "  warnings.warn(_INTERPRETER_DELETION_WARNING)\n",
      "INFO: Created TensorFlow Lite XNNPACK delegate for CPU.\n"
     ]
    }
   ],
   "source": [
    "# Initialize the TFLite interpreter\n",
    "interpreter = tf.lite.Interpreter(model_content=tflite_model)\n",
    "#interpreter = tf.lite.Interpreter(model_path='quantized_model.tflite')\n",
    "# Allocate the tensors\n",
    "interpreter.allocate_tensors()"
   ]
  },
  {
   "cell_type": "markdown",
   "metadata": {},
   "source": [
    "\n",
    "### Get input quantization parameters\n"
   ]
  },
  {
   "cell_type": "code",
   "execution_count": 59,
   "metadata": {},
   "outputs": [
    {
     "name": "stdout",
     "output_type": "stream",
     "text": [
      "Tensor Name: serving_default_input_layer:0, Type: <class 'numpy.int8'>, Quantization: (1.0, -128)\n",
      "Tensor Name: arith.constant, Type: <class 'numpy.int32'>, Quantization: (0.0, 0)\n",
      "Tensor Name: arith.constant1, Type: <class 'numpy.int32'>, Quantization: (0.0, 0)\n",
      "Tensor Name: arith.constant2, Type: <class 'numpy.int32'>, Quantization: (0.0, 0)\n",
      "Tensor Name: tfl.pseudo_qconst, Type: <class 'numpy.int32'>, Quantization: (0.6157441735267639, 0)\n",
      "Tensor Name: tfl.pseudo_qconst1, Type: <class 'numpy.int8'>, Quantization: (0.01239998359233141, 0)\n",
      "Tensor Name: tfl.pseudo_qconst2, Type: <class 'numpy.int32'>, Quantization: (0.0, 0)\n",
      "Tensor Name: tfl.pseudo_qconst3, Type: <class 'numpy.int8'>, Quantization: (0.0, 0)\n",
      "Tensor Name: tfl.pseudo_qconst4, Type: <class 'numpy.int32'>, Quantization: (0.0, 0)\n",
      "Tensor Name: tfl.pseudo_qconst5, Type: <class 'numpy.int8'>, Quantization: (0.0, 0)\n",
      "Tensor Name: tfl.pseudo_qconst6, Type: <class 'numpy.int32'>, Quantization: (0.0, 0)\n",
      "Tensor Name: tfl.pseudo_qconst7, Type: <class 'numpy.int8'>, Quantization: (0.0, 0)\n",
      "Tensor Name: tfl.pseudo_qconst8, Type: <class 'numpy.int32'>, Quantization: (0.0, 0)\n",
      "Tensor Name: tfl.pseudo_qconst9, Type: <class 'numpy.int8'>, Quantization: (0.0, 0)\n",
      "Tensor Name: tfl.pseudo_qconst10, Type: <class 'numpy.int32'>, Quantization: (0.0, 0)\n",
      "Tensor Name: tfl.pseudo_qconst11, Type: <class 'numpy.int8'>, Quantization: (0.0, 0)\n",
      "Tensor Name: tfl.pseudo_qconst12, Type: <class 'numpy.int32'>, Quantization: (0.0, 0)\n",
      "Tensor Name: tfl.pseudo_qconst13, Type: <class 'numpy.int8'>, Quantization: (0.0, 0)\n",
      "Tensor Name: tfl.pseudo_qconst14, Type: <class 'numpy.int32'>, Quantization: (0.0, 0)\n",
      "Tensor Name: tfl.pseudo_qconst15, Type: <class 'numpy.int8'>, Quantization: (0.0, 0)\n",
      "Tensor Name: tfl.pseudo_qconst16, Type: <class 'numpy.int32'>, Quantization: (0.0, 0)\n",
      "Tensor Name: tfl.pseudo_qconst17, Type: <class 'numpy.int8'>, Quantization: (0.0, 0)\n",
      "Tensor Name: functional_1/conv2d_1/convolution, Type: <class 'numpy.int8'>, Quantization: (1.0, -128)\n",
      "Tensor Name: functional_1/conv2d_1/Relu;functional_1/conv2d_1/BiasAdd;functional_1/conv2d_1/convolution;functional_1/conv2d_1/Squeeze, Type: <class 'numpy.int8'>, Quantization: (2.161628484725952, -128)\n",
      "Tensor Name: functional_1/max_pooling2d_1/MaxPool2d, Type: <class 'numpy.int8'>, Quantization: (2.161628484725952, -128)\n",
      "Tensor Name: functional_1/fire_module_1/conv2d_1/Relu;functional_1/fire_module_1/conv2d_1/BiasAdd;functional_1/fire_module_1/conv2d_1/convolution;functional_1/fire_module_1/conv2d_1/Squeeze, Type: <class 'numpy.int8'>, Quantization: (3.580765724182129, -128)\n",
      "Tensor Name: functional_1/fire_module_1/conv2d_1_2/Relu;functional_1/fire_module_1/conv2d_1_2/BiasAdd;functional_1/fire_module_1/conv2d_1_2/convolution;functional_1/fire_module_1/conv2d_1_2/Squeeze, Type: <class 'numpy.int8'>, Quantization: (10.682828903198242, -128)\n",
      "Tensor Name: functional_1/fire_module_1/conv2d_1_2/BiasAdd, Type: <class 'numpy.int8'>, Quantization: (10.682828903198242, -128)\n",
      "Tensor Name: functional_1/fire_module_1/conv2d_2_1/Relu;functional_1/fire_module_1/conv2d_2_1/BiasAdd;functional_1/fire_module_1/conv2d_2_1/convolution;functional_1/fire_module_1/conv2d_2_1/Squeeze, Type: <class 'numpy.int8'>, Quantization: (10.682828903198242, -128)\n",
      "Tensor Name: functional_1/fire_module_1/conv2d_2_1/BiasAdd, Type: <class 'numpy.int8'>, Quantization: (10.682828903198242, -128)\n",
      "Tensor Name: functional_1/fire_module_1/concat, Type: <class 'numpy.int8'>, Quantization: (10.682828903198242, -128)\n",
      "Tensor Name: functional_1/fire_module_1_2/conv2d_3_1/convolution, Type: <class 'numpy.int8'>, Quantization: (10.682828903198242, -128)\n",
      "Tensor Name: functional_1/fire_module_1_2/conv2d_3_1/Relu;functional_1/fire_module_1_2/conv2d_3_1/BiasAdd;functional_1/fire_module_1_2/conv2d_3_1/convolution;functional_1/fire_module_1_2/conv2d_3_1/Squeeze, Type: <class 'numpy.int8'>, Quantization: (47.998722076416016, -128)\n",
      "Tensor Name: functional_1/fire_module_1_2/conv2d_4_1/Relu;functional_1/fire_module_1_2/conv2d_4_1/BiasAdd;functional_1/fire_module_1_2/conv2d_4_1/convolution;functional_1/fire_module_1_2/conv2d_4_1/Squeeze, Type: <class 'numpy.int8'>, Quantization: (82.17375183105469, -128)\n",
      "Tensor Name: functional_1/fire_module_1_2/conv2d_4_1/BiasAdd, Type: <class 'numpy.int8'>, Quantization: (82.17375183105469, -128)\n",
      "Tensor Name: functional_1/fire_module_1_2/conv2d_5_1/Relu;functional_1/fire_module_1_2/conv2d_5_1/BiasAdd;functional_1/fire_module_1_2/conv2d_5_1/convolution;functional_1/fire_module_1_2/conv2d_5_1/Squeeze, Type: <class 'numpy.int8'>, Quantization: (82.17375183105469, -128)\n",
      "Tensor Name: functional_1/fire_module_1_2/conv2d_5_1/BiasAdd, Type: <class 'numpy.int8'>, Quantization: (82.17375183105469, -128)\n",
      "Tensor Name: functional_1/fire_module_1_2/concat, Type: <class 'numpy.int8'>, Quantization: (82.17375183105469, -128)\n",
      "Tensor Name: functional_1/max_pooling2d_1_2/transpose, Type: <class 'numpy.int8'>, Quantization: (82.17375183105469, -128)\n",
      "Tensor Name: functional_1/max_pooling2d_1_2/MaxPool2d, Type: <class 'numpy.int8'>, Quantization: (82.17375183105469, -128)\n",
      "Tensor Name: functional_1/conv2d_7_1/Relu;functional_1/conv2d_7_1/BiasAdd;functional_1/conv2d_7_1/convolution;functional_1/conv2d_7_1/Squeeze, Type: <class 'numpy.int8'>, Quantization: (682.296630859375, -128)\n",
      "Tensor Name: functional_1/conv2d_7_1/BiasAdd, Type: <class 'numpy.int8'>, Quantization: (682.296630859375, -128)\n",
      "Tensor Name: functional_1/global_average_pooling2d_1/Mean, Type: <class 'numpy.int8'>, Quantization: (49.65685272216797, -128)\n",
      "Tensor Name: functional_1/dense_1/MatMul;functional_1/dense_1/Add, Type: <class 'numpy.int8'>, Quantization: (94.8923110961914, -71)\n",
      "Tensor Name: StatefulPartitionedCall_1:0, Type: <class 'numpy.int8'>, Quantization: (0.00390625, -128)\n",
      "Total quantized parameters: 3080150\n",
      "Total non-quantized parameters: 365\n"
     ]
    }
   ],
   "source": [
    "# Get input and output details\n",
    "input_details = interpreter.get_input_details()\n",
    "output_details = interpreter.get_output_details()\n",
    "\n",
    "# Get the details of all tensors in the model\n",
    "tensor_details = interpreter.get_tensor_details()\n",
    "\n",
    "# Print details of each tensor\n",
    "for tensor in tensor_details:\n",
    "    print(f\"Tensor Name: {tensor['name']}, Type: {tensor['dtype']}, Quantization: {tensor['quantization']}\")\n",
    "\n",
    "# Initialize counters\n",
    "quantized_count = 0\n",
    "non_quantized_count = 0\n",
    "\n",
    "# Iterate through tensor details\n",
    "for tensor in tensor_details:\n",
    "    tensor_type = tensor['dtype']\n",
    "    # Check if the tensor is quantized\n",
    "    if tensor_type == tf.int8:\n",
    "        quantized_count += tf.reduce_prod(tensor['shape']).numpy()  # Count the number of quantized parameters\n",
    "    else:\n",
    "        non_quantized_count += tf.reduce_prod(tensor['shape']).numpy()  # Count the number of non-quantized parameters\n",
    "\n",
    "# Print the results\n",
    "print(f'Total quantized parameters: {quantized_count}')\n",
    "print(f'Total non-quantized parameters: {non_quantized_count}')\n"
   ]
  },
  {
   "cell_type": "code",
   "execution_count": 74,
   "metadata": {},
   "outputs": [
    {
     "name": "stdout",
     "output_type": "stream",
     "text": [
      "Found 8320 files belonging to 2 classes.\n"
     ]
    }
   ],
   "source": [
    "# Prepare the validation dataset\n",
    "val_ds = keras.utils.image_dataset_from_directory(\n",
    "    \"./data/human_dataset_a/validation\",\n",
    "    seed=1337,\n",
    "    image_size=(96, 96),\n",
    "    batch_size=1,\n",
    "    label_mode=\"binary\"\n",
    ")"
   ]
  },
  {
   "cell_type": "code",
   "execution_count": 81,
   "metadata": {},
   "outputs": [
    {
     "name": "stdout",
     "output_type": "stream",
     "text": [
      "Accuracy: 0.7885\n"
     ]
    }
   ],
   "source": [
    "# Initialize lists to store predictions and true labels\n",
    "all_predictions = []\n",
    "all_labels = []\n",
    "\n",
    "# Iterate through the validation dataset\n",
    "for images, label in val_ds:\n",
    "    # Convert images to INT8\n",
    "    image = np.array(images) - 128  # Ensure it's a NumPy array and shift to [-128, 127]\n",
    "    image = image.astype(np.int8)  # Convert to INT8\n",
    "    \n",
    "    # Set the input tensor\n",
    "    interpreter.set_tensor(input_details[0]['index'], image)\n",
    "    \n",
    "    # Run inference\n",
    "    interpreter.invoke()\n",
    "    \n",
    "    # Get the output tensor\n",
    "    output_data = interpreter.get_tensor(output_details[0]['index'])\n",
    "   \n",
    "    \n",
    "    # Convert output to predictions (assuming binary classification)\n",
    "    #prediction = np.argmax(output_data, axis=1)  # Use argmax for multi-class, or threshold for binary\n",
    "    prediction = np.array(output_data, dtype=np.float32)  # Convert to float32 for processing\n",
    "    # Set the value based on the condition\n",
    "    prediction[0, 0] = 1. if prediction[0, 0] > 0. else 0.\n",
    "    # Alternatively, using NumPy's where function\n",
    "    # prediction = np.where(prediction > 0, 1, 0)\n",
    "\n",
    "    all_predictions.extend(prediction)\n",
    "    all_labels.extend(label.numpy())\n",
    "\n",
    "# Convert lists to numpy arrays for metric calculation\n",
    "all_predictions = np.array(all_predictions)\n",
    "all_labels = np.array(all_labels)\n",
    "\n",
    "# Calculate accuracy\n",
    "accuracy = np.mean(all_predictions == all_labels)\n",
    "print(f'Accuracy: {accuracy:.4f}')"
   ]
  },
  {
   "cell_type": "markdown",
   "metadata": {},
   "source": [
    "### Convert the TFLite model to a C-byte array with xxd"
   ]
  },
  {
   "cell_type": "code",
   "execution_count": 84,
   "metadata": {},
   "outputs": [],
   "source": [
    "# apt-get install xxd"
   ]
  },
  {
   "cell_type": "code",
   "execution_count": null,
   "metadata": {},
   "outputs": [],
   "source": [
    "#!xxd -c 60 -i minisqueezenet_96.tflite > minisqueezenet_96.h"
   ]
  },
  {
   "cell_type": "code",
   "execution_count": null,
   "metadata": {},
   "outputs": [],
   "source": []
  },
  {
   "cell_type": "code",
   "execution_count": null,
   "metadata": {},
   "outputs": [],
   "source": []
  },
  {
   "cell_type": "code",
   "execution_count": null,
   "metadata": {},
   "outputs": [],
   "source": []
  },
  {
   "cell_type": "code",
   "execution_count": 5,
   "metadata": {},
   "outputs": [
    {
     "name": "stderr",
     "output_type": "stream",
     "text": [
      "WARNING: All log messages before absl::InitializeLog() is called are written to STDERR\n",
      "I0000 00:00:1752060581.818327   79631 service.cc:152] XLA service 0x7e6db8002c00 initialized for platform CUDA (this does not guarantee that XLA will be used). Devices:\n",
      "I0000 00:00:1752060581.818341   79631 service.cc:160]   StreamExecutor device (0): NVIDIA GeForce RTX 2080 Ti, Compute Capability 7.5\n",
      "2025-07-09 13:29:41.982106: I tensorflow/compiler/mlir/tensorflow/utils/dump_mlir_util.cc:269] disabling MLIR crash reproducer, set env var `MLIR_CRASH_REPRODUCER_DIRECTORY` to enable.\n",
      "I0000 00:00:1752060582.237556   79631 cuda_dnn.cc:529] Loaded cuDNN version 90300\n",
      "2025-07-09 13:29:43.666545: I external/local_xla/xla/service/gpu/autotuning/conv_algorithm_picker.cc:549] Omitted potentially buggy algorithm eng14{k25=2} for conv %cudnn-conv-bias-activation.24 = (f32[1,64,94,94]{3,2,1,0}, u8[0]{0}) custom-call(f32[1,3,96,96]{3,2,1,0} %bitcast.331, f32[64,3,3,3]{3,2,1,0} %bitcast.338, f32[64]{0} %bitcast.340), window={size=3x3}, dim_labels=bf01_oi01->bf01, custom_call_target=\"__cudnn$convBiasActivationForward\", metadata={op_type=\"Conv2D\" op_name=\"functional_1/conv2d_1/convolution\" source_file=\"/home/pico/miniconda3/envs/torch/lib/python3.12/site-packages/tensorflow/python/framework/ops.py\" source_line=1200}, backend_config={\"operation_queue_id\":\"0\",\"wait_on_operation_queues\":[],\"cudnn_conv_backend_config\":{\"conv_result_scale\":1,\"activation_mode\":\"kRelu\",\"side_input_scale\":0,\"leakyrelu_alpha\":0},\"force_earliest_schedule\":false}\n",
      "2025-07-09 13:29:44.075282: I external/local_xla/xla/service/gpu/autotuning/conv_algorithm_picker.cc:549] Omitted potentially buggy algorithm eng14{k25=2} for conv %cudnn-conv-bias-activation.27 = (f32[1,64,46,46]{3,2,1,0}, u8[0]{0}) custom-call(f32[1,16,46,46]{3,2,1,0} %bitcast.377, f32[64,16,3,3]{3,2,1,0} %bitcast.384, f32[64]{0} %bitcast.386), window={size=3x3 pad=1_1x1_1}, dim_labels=bf01_oi01->bf01, custom_call_target=\"__cudnn$convBiasActivationForward\", metadata={op_type=\"Conv2D\" op_name=\"functional_1/fire_module_1/conv2d_2_1/convolution\" source_file=\"/home/pico/miniconda3/envs/torch/lib/python3.12/site-packages/tensorflow/python/framework/ops.py\" source_line=1200}, backend_config={\"operation_queue_id\":\"0\",\"wait_on_operation_queues\":[],\"cudnn_conv_backend_config\":{\"conv_result_scale\":1,\"activation_mode\":\"kRelu\",\"side_input_scale\":0,\"leakyrelu_alpha\":0},\"force_earliest_schedule\":false}\n"
     ]
    },
    {
     "name": "stdout",
     "output_type": "stream",
     "text": [
      "\u001b[1m1/1\u001b[0m \u001b[32m━━━━━━━━━━━━━━━━━━━━\u001b[0m\u001b[37m\u001b[0m \u001b[1m3s\u001b[0m 3s/step\n",
      "This image is 96.25% human and 3.75% not human.\n",
      "[[0.03748973]]\n"
     ]
    },
    {
     "name": "stderr",
     "output_type": "stream",
     "text": [
      "I0000 00:00:1752060584.711540   79631 device_compiler.h:188] Compiled cluster using XLA!  This line is logged at most once for the lifetime of the process.\n"
     ]
    },
    {
     "data": {
      "image/png": "[encoded data removed]",
      "text/plain": [
       "<Figure size 640x480 with 1 Axes>"
      ]
     },
     "metadata": {},
     "output_type": "display_data"
    }
   ],
   "source": [
    "img = keras.utils.load_img(\n",
    "    \"/home/pico/code/esp32cam_human_detector/human_presence_classifier/data/human_dataset_a/test/human/78.png\", \n",
    "    target_size=(96, 96))\n",
    "\n",
    "plt.imshow(img)\n",
    "\n",
    "img_array = keras.utils.img_to_array(img)\n",
    "# Reescale image values from 0-255 to 0-1\n",
    "rescale_fn = layers.Rescaling(1.0 / 255)\n",
    "img_array = rescale_fn(img_array)\n",
    "# Add batch dimension\n",
    "img_array = keras.ops.expand_dims(img_array, 0)  # Create batch axis\n",
    "\n",
    "predictions = model.predict(img_array)\n",
    "print(f\"This image is {100 * (1 - predictions[0][0]):.2f}% human and {100 * predictions[0][0]:.2f}% not human.\")\n",
    "print(predictions)"
   ]
  },
  {
   "cell_type": "code",
   "execution_count": 41,
   "metadata": {},
   "outputs": [
    {
     "name": "stdout",
     "output_type": "stream",
     "text": [
      "2.19.0\n"
     ]
    }
   ],
   "source": [
    "import tensorflow as tf\n",
    "print(tf.__version__)"
   ]
  },
  {
   "cell_type": "code",
   "execution_count": 42,
   "metadata": {},
   "outputs": [
    {
     "name": "stdout",
     "output_type": "stream",
     "text": [
      "3.10.0\n"
     ]
    }
   ],
   "source": [
    "import keras\n",
    "print(keras.__version__)"
   ]
  },
  {
   "cell_type": "code",
   "execution_count": 50,
   "metadata": {},
   "outputs": [
    {
     "ename": "AttributeError",
     "evalue": "'bytes' object has no attribute 'summary'",
     "output_type": "error",
     "traceback": [
      "\u001b[0;31m---------------------------------------------------------------------------\u001b[0m",
      "\u001b[0;31mAttributeError\u001b[0m                            Traceback (most recent call last)",
      "Cell \u001b[0;32mIn[50], line 1\u001b[0m\n\u001b[0;32m----> 1\u001b[0m tflite_model\u001b[38;5;241m.\u001b[39msummary()\n",
      "\u001b[0;31mAttributeError\u001b[0m: 'bytes' object has no attribute 'summary'"
     ]
    }
   ],
   "source": [
    "tflite_model.summary()"
   ]
  },
  {
   "cell_type": "code",
   "execution_count": 36,
   "metadata": {},
   "outputs": [
    {
     "name": "stdout",
     "output_type": "stream",
     "text": [
      "[array([[[[ 54.11111  ,  60.333332 ,  63.11111  , ..., 130.88889  ,\n",
      "          123.       , 102.1112   ],\n",
      "         [ 56.666668 ,  63.       ,  66.333336 , ..., 130.33334  ,\n",
      "          124.       , 102.333405 ],\n",
      "         [ 59.11111  ,  65.333336 ,  68.33333  , ...,  99.88889  ,\n",
      "           92.333336 ,  94.00002  ],\n",
      "         ...,\n",
      "         [ 29.333344 ,  32.       ,  37.222206 , ...,  53.88888  ,\n",
      "           51.666656 ,  48.666656 ],\n",
      "         [ 28.666666 ,  31.       ,  35.666664 , ...,  54.       ,\n",
      "           52.       ,  48.       ],\n",
      "         [ 29.       ,  32.       ,  35.666664 , ...,  54.111115 ,\n",
      "           51.33333  ,  48.33333  ]],\n",
      "\n",
      "        [[ 61.11111  ,  67.333336 ,  72.11111  , ..., 132.88889  ,\n",
      "          125.       , 104.1112   ],\n",
      "         [ 63.666668 ,  72.       ,  75.333336 , ..., 134.33334  ,\n",
      "          126.       , 104.333405 ],\n",
      "         [ 68.111115 ,  74.333336 ,  77.33333  , ..., 104.88889  ,\n",
      "           97.33333  ,  99.00002  ],\n",
      "         ...,\n",
      "         [ 31.333344 ,  34.       ,  36.888893 , ...,  52.44443  ,\n",
      "           48.666656 ,  45.666656 ],\n",
      "         [ 29.666666 ,  33.       ,  34.666664 , ...,  53.       ,\n",
      "           49.       ,  45.       ],\n",
      "         [ 28.       ,  31.       ,  34.666664 , ...,  53.111115 ,\n",
      "           48.33333  ,  45.33333  ]],\n",
      "\n",
      "        [[ 43.11111  ,  49.333332 ,  53.11111  , ..., 119.888885 ,\n",
      "          112.       ,  91.1112   ],\n",
      "         [ 45.666668 ,  53.       ,  56.333332 , ..., 120.33334  ,\n",
      "          113.       ,  91.333405 ],\n",
      "         [ 49.11111  ,  55.333332 ,  58.33333  , ...,  89.555565 ,\n",
      "           82.       ,  83.666695 ],\n",
      "         ...,\n",
      "         [ 10.3333435,  13.       ,  16.666666 , ...,  32.666656 ,\n",
      "           29.666656 ,  28.666656 ],\n",
      "         [ 11.666667 ,  12.       ,  14.666666 , ...,  33.       ,\n",
      "           30.       ,  28.       ],\n",
      "         [ 10.       ,  13.       ,  16.       , ...,  33.111115 ,\n",
      "           29.333328 ,  28.333328 ]]]], dtype=float32)]\n"
     ]
    }
   ],
   "source": [
    "u = None\n",
    "for i in a:\n",
    "    print(i)\n",
    "    u = i\n",
    "    break"
   ]
  },
  {
   "cell_type": "code",
   "execution_count": 37,
   "metadata": {},
   "outputs": [
    {
     "data": {
      "text/plain": [
       "[array([[[[ 54.11111  ,  60.333332 ,  63.11111  , ..., 130.88889  ,\n",
       "           123.       , 102.1112   ],\n",
       "          [ 56.666668 ,  63.       ,  66.333336 , ..., 130.33334  ,\n",
       "           124.       , 102.333405 ],\n",
       "          [ 59.11111  ,  65.333336 ,  68.33333  , ...,  99.88889  ,\n",
       "            92.333336 ,  94.00002  ],\n",
       "          ...,\n",
       "          [ 29.333344 ,  32.       ,  37.222206 , ...,  53.88888  ,\n",
       "            51.666656 ,  48.666656 ],\n",
       "          [ 28.666666 ,  31.       ,  35.666664 , ...,  54.       ,\n",
       "            52.       ,  48.       ],\n",
       "          [ 29.       ,  32.       ,  35.666664 , ...,  54.111115 ,\n",
       "            51.33333  ,  48.33333  ]],\n",
       " \n",
       "         [[ 61.11111  ,  67.333336 ,  72.11111  , ..., 132.88889  ,\n",
       "           125.       , 104.1112   ],\n",
       "          [ 63.666668 ,  72.       ,  75.333336 , ..., 134.33334  ,\n",
       "           126.       , 104.333405 ],\n",
       "          [ 68.111115 ,  74.333336 ,  77.33333  , ..., 104.88889  ,\n",
       "            97.33333  ,  99.00002  ],\n",
       "          ...,\n",
       "          [ 31.333344 ,  34.       ,  36.888893 , ...,  52.44443  ,\n",
       "            48.666656 ,  45.666656 ],\n",
       "          [ 29.666666 ,  33.       ,  34.666664 , ...,  53.       ,\n",
       "            49.       ,  45.       ],\n",
       "          [ 28.       ,  31.       ,  34.666664 , ...,  53.111115 ,\n",
       "            48.33333  ,  45.33333  ]],\n",
       " \n",
       "         [[ 43.11111  ,  49.333332 ,  53.11111  , ..., 119.888885 ,\n",
       "           112.       ,  91.1112   ],\n",
       "          [ 45.666668 ,  53.       ,  56.333332 , ..., 120.33334  ,\n",
       "           113.       ,  91.333405 ],\n",
       "          [ 49.11111  ,  55.333332 ,  58.33333  , ...,  89.555565 ,\n",
       "            82.       ,  83.666695 ],\n",
       "          ...,\n",
       "          [ 10.3333435,  13.       ,  16.666666 , ...,  32.666656 ,\n",
       "            29.666656 ,  28.666656 ],\n",
       "          [ 11.666667 ,  12.       ,  14.666666 , ...,  33.       ,\n",
       "            30.       ,  28.       ],\n",
       "          [ 10.       ,  13.       ,  16.       , ...,  33.111115 ,\n",
       "            29.333328 ,  28.333328 ]]]], dtype=float32)]"
      ]
     },
     "execution_count": 37,
     "metadata": {},
     "output_type": "execute_result"
    }
   ],
   "source": [
    "u"
   ]
  },
  {
   "cell_type": "code",
   "execution_count": 38,
   "metadata": {},
   "outputs": [
    {
     "data": {
      "text/plain": [
       "list"
      ]
     },
     "execution_count": 38,
     "metadata": {},
     "output_type": "execute_result"
    }
   ],
   "source": [
    "type(u)"
   ]
  },
  {
   "cell_type": "code",
   "execution_count": 39,
   "metadata": {},
   "outputs": [
    {
     "data": {
      "text/plain": [
       "1"
      ]
     },
     "execution_count": 39,
     "metadata": {},
     "output_type": "execute_result"
    }
   ],
   "source": [
    "len(u)"
   ]
  },
  {
   "cell_type": "code",
   "execution_count": 40,
   "metadata": {},
   "outputs": [],
   "source": [
    "u = u[0]"
   ]
  },
  {
   "cell_type": "code",
   "execution_count": 35,
   "metadata": {},
   "outputs": [
    {
     "data": {
      "text/plain": [
       "(1, 3, 96, 96)"
      ]
     },
     "execution_count": 35,
     "metadata": {},
     "output_type": "execute_result"
    }
   ],
   "source": [
    "u.shape"
   ]
  },
  {
   "cell_type": "code",
   "execution_count": null,
   "metadata": {},
   "outputs": [],
   "source": []
  }
 ],
 "metadata": {
  "kernelspec": {
   "display_name": "torch",
   "language": "python",
   "name": "python3"
  },
  "language_info": {
   "codemirror_mode": {
    "name": "ipython",
    "version": 3
   },
   "file_extension": ".py",
   "mimetype": "text/x-python",
   "name": "python",
   "nbconvert_exporter": "python",
   "pygments_lexer": "ipython3",
   "version": "3.12.4"
  }
 },
 "nbformat": 4,
 "nbformat_minor": 2
}
